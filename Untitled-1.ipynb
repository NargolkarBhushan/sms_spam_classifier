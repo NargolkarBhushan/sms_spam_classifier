{
 "cells": [
  {
   "cell_type": "markdown",
   "id": "8fb22312",
   "metadata": {},
   "source": [
    "# SMS Spam Classification Analysis\n",
    "This notebook demonstrates how to load and analyze SMS spam classification data using Python."
   ]
  },
  {
   "cell_type": "code",
   "execution_count": null,
   "id": "66ad72fb",
   "metadata": {},
   "outputs": [],
   "source": [
    "# Import required libraries\n",
    "import pandas as pd\n",
    "import numpy as np\n",
    "import matplotlib.pyplot as plt\n",
    "import seaborn as sns"
   ]
  },
  {
   "cell_type": "markdown",
   "id": "71953552",
   "metadata": {},
   "source": [
    "## Read CSV File with Pandas\n",
    "Loading the SMS spam dataset and examining its basic structure."
   ]
  },
  {
   "cell_type": "code",
   "execution_count": null,
   "id": "8b5d585e",
   "metadata": {},
   "outputs": [],
   "source": [
    "# Read the CSV file\n",
    "df = pd.read_csv('spam.csv', encoding='latin-1')\n",
    "print(\"Dataset loaded successfully!\")"
   ]
  },
  {
   "cell_type": "markdown",
   "id": "6f9147e0",
   "metadata": {},
   "source": [
    "## Basic Data Exploration\n",
    "Let's examine the basic characteristics of our dataset."
   ]
  },
  {
   "cell_type": "code",
   "execution_count": null,
   "id": "d7ebd44a",
   "metadata": {},
   "outputs": [],
   "source": [
    "# Display first few rows\n",
    "print(\"First 5 rows of the dataset:\")\n",
    "display(df.head())\n",
    "\n",
    "# Get dataset shape\n",
    "print(\"\\nDataset Shape:\", df.shape)\n",
    "\n",
    "# Display basic information about the dataset\n",
    "print(\"\\nDataset Info:\")\n",
    "df.info()\n",
    "\n",
    "# Check for missing values\n",
    "print(\"\\nMissing Values:\")\n",
    "print(df.isnull().sum())"
   ]
  },
  {
   "cell_type": "markdown",
   "id": "5f7a6b38",
   "metadata": {},
   "source": [
    "## Cleaning Text Data\n",
    "Clean the text messages by removing special characters and converting to lowercase."
   ]
  },
  {
   "cell_type": "code",
   "execution_count": null,
   "id": "ac8e04fd",
   "metadata": {},
   "outputs": [],
   "source": [
    "import re\n",
    "\n",
    "def clean_text(text):\n",
    "    # Convert to lowercase\n",
    "    text = text.lower()\n",
    "    # Remove special characters and numbers\n",
    "    text = re.sub(r'[^a-zA-Z\\s]', '', text)\n",
    "    # Remove extra whitespace\n",
    "    text = ' '.join(text.split())\n",
    "    return text\n",
    "\n",
    "# Apply text cleaning to the message column\n",
    "df['cleaned_message'] = df['message'].apply(clean_text)\n",
    "\n",
    "# Display some cleaned messages\n",
    "print(\"Original vs Cleaned Messages:\")\n",
    "display(pd.DataFrame({\n",
    "    'Original': df['message'][:5],\n",
    "    'Cleaned': df['cleaned_message'][:5]\n",
    "}))"
   ]
  },
  {
   "cell_type": "markdown",
   "id": "040a0a98",
   "metadata": {},
   "source": [
    "## Filter Dataset\n",
    "Analyze the characteristics of spam vs ham messages."
   ]
  },
  {
   "cell_type": "code",
   "execution_count": null,
   "id": "42117423",
   "metadata": {},
   "outputs": [],
   "source": [
    "# Count of spam vs ham messages\n",
    "spam_counts = df['label'].value_counts()\n",
    "print(\"Distribution of messages:\")\n",
    "print(spam_counts)\n",
    "\n",
    "# Calculate message length\n",
    "df['message_length'] = df['cleaned_message'].str.len()\n",
    "\n",
    "# Compare lengths of spam vs ham messages\n",
    "plt.figure(figsize=(10, 6))\n",
    "sns.boxplot(x='label', y='message_length', data=df)\n",
    "plt.title('Message Length Distribution: Spam vs Ham')\n",
    "plt.show()\n",
    "\n",
    "# Basic statistics of message lengths by category\n",
    "print(\"\\nMessage length statistics by category:\")\n",
    "print(df.groupby('label')['message_length'].describe())"
   ]
  }
 ],
 "metadata": {
  "language_info": {
   "name": "python"
  }
 },
 "nbformat": 4,
 "nbformat_minor": 5
}
